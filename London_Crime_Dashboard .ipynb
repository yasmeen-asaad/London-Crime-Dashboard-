{
 "cells": [
  {
   "cell_type": "markdown",
   "id": "18974ec2",
   "metadata": {},
   "source": [
    "## Import Libraries:"
   ]
  },
  {
   "cell_type": "code",
   "execution_count": 1,
   "id": "7536105a",
   "metadata": {},
   "outputs": [],
   "source": [
    "from jupyter_dash import JupyterDash\n",
    "import dash\n",
    "from dash import html \n",
    "from dash import dcc\n",
    "from dash.dependencies import Input, Output, State\n",
    "\n",
    "import plotly.express as px\n",
    "import plotly.io as pio\n",
    "import plotly.graph_objects as go\n",
    "\n",
    "import numpy as np \n",
    "import pandas as pd"
   ]
  },
  {
   "cell_type": "markdown",
   "id": "8fca4d88",
   "metadata": {},
   "source": [
    "## Loading Dataset:"
   ]
  },
  {
   "cell_type": "code",
   "execution_count": 2,
   "id": "8b3f87df",
   "metadata": {},
   "outputs": [],
   "source": [
    "df = pd.read_csv('london_crime_by_lsoa.csv')\n",
    "#df = df.iloc[:5000, :]"
   ]
  },
  {
   "cell_type": "code",
   "execution_count": 3,
   "id": "72bd1aa4",
   "metadata": {},
   "outputs": [
    {
     "data": {
      "text/html": [
       "<div>\n",
       "<style scoped>\n",
       "    .dataframe tbody tr th:only-of-type {\n",
       "        vertical-align: middle;\n",
       "    }\n",
       "\n",
       "    .dataframe tbody tr th {\n",
       "        vertical-align: top;\n",
       "    }\n",
       "\n",
       "    .dataframe thead th {\n",
       "        text-align: right;\n",
       "    }\n",
       "</style>\n",
       "<table border=\"1\" class=\"dataframe\">\n",
       "  <thead>\n",
       "    <tr style=\"text-align: right;\">\n",
       "      <th></th>\n",
       "      <th>lsoa_code</th>\n",
       "      <th>borough</th>\n",
       "      <th>major_category</th>\n",
       "      <th>minor_category</th>\n",
       "      <th>value</th>\n",
       "      <th>year</th>\n",
       "      <th>month</th>\n",
       "    </tr>\n",
       "  </thead>\n",
       "  <tbody>\n",
       "    <tr>\n",
       "      <th>0</th>\n",
       "      <td>E01001116</td>\n",
       "      <td>Croydon</td>\n",
       "      <td>Burglary</td>\n",
       "      <td>Burglary in Other Buildings</td>\n",
       "      <td>0</td>\n",
       "      <td>2016</td>\n",
       "      <td>11</td>\n",
       "    </tr>\n",
       "    <tr>\n",
       "      <th>1</th>\n",
       "      <td>E01001646</td>\n",
       "      <td>Greenwich</td>\n",
       "      <td>Violence Against the Person</td>\n",
       "      <td>Other violence</td>\n",
       "      <td>0</td>\n",
       "      <td>2016</td>\n",
       "      <td>11</td>\n",
       "    </tr>\n",
       "    <tr>\n",
       "      <th>2</th>\n",
       "      <td>E01000677</td>\n",
       "      <td>Bromley</td>\n",
       "      <td>Violence Against the Person</td>\n",
       "      <td>Other violence</td>\n",
       "      <td>0</td>\n",
       "      <td>2015</td>\n",
       "      <td>5</td>\n",
       "    </tr>\n",
       "    <tr>\n",
       "      <th>3</th>\n",
       "      <td>E01003774</td>\n",
       "      <td>Redbridge</td>\n",
       "      <td>Burglary</td>\n",
       "      <td>Burglary in Other Buildings</td>\n",
       "      <td>0</td>\n",
       "      <td>2016</td>\n",
       "      <td>3</td>\n",
       "    </tr>\n",
       "    <tr>\n",
       "      <th>4</th>\n",
       "      <td>E01004563</td>\n",
       "      <td>Wandsworth</td>\n",
       "      <td>Robbery</td>\n",
       "      <td>Personal Property</td>\n",
       "      <td>0</td>\n",
       "      <td>2008</td>\n",
       "      <td>6</td>\n",
       "    </tr>\n",
       "  </tbody>\n",
       "</table>\n",
       "</div>"
      ],
      "text/plain": [
       "   lsoa_code     borough               major_category  \\\n",
       "0  E01001116     Croydon                     Burglary   \n",
       "1  E01001646   Greenwich  Violence Against the Person   \n",
       "2  E01000677     Bromley  Violence Against the Person   \n",
       "3  E01003774   Redbridge                     Burglary   \n",
       "4  E01004563  Wandsworth                      Robbery   \n",
       "\n",
       "                minor_category  value  year  month  \n",
       "0  Burglary in Other Buildings      0  2016     11  \n",
       "1               Other violence      0  2016     11  \n",
       "2               Other violence      0  2015      5  \n",
       "3  Burglary in Other Buildings      0  2016      3  \n",
       "4            Personal Property      0  2008      6  "
      ]
     },
     "execution_count": 3,
     "metadata": {},
     "output_type": "execute_result"
    }
   ],
   "source": [
    "df.head()"
   ]
  },
  {
   "cell_type": "code",
   "execution_count": 4,
   "id": "63b63efd",
   "metadata": {},
   "outputs": [
    {
     "name": "stdout",
     "output_type": "stream",
     "text": [
      "<class 'pandas.core.frame.DataFrame'>\n",
      "RangeIndex: 13490604 entries, 0 to 13490603\n",
      "Data columns (total 7 columns):\n",
      " #   Column          Dtype \n",
      "---  ------          ----- \n",
      " 0   lsoa_code       object\n",
      " 1   borough         object\n",
      " 2   major_category  object\n",
      " 3   minor_category  object\n",
      " 4   value           int64 \n",
      " 5   year            int64 \n",
      " 6   month           int64 \n",
      "dtypes: int64(3), object(4)\n",
      "memory usage: 720.5+ MB\n"
     ]
    }
   ],
   "source": [
    "df.info()"
   ]
  },
  {
   "cell_type": "code",
   "execution_count": 5,
   "id": "40cb4312",
   "metadata": {},
   "outputs": [
    {
     "data": {
      "text/plain": [
       "0"
      ]
     },
     "execution_count": 5,
     "metadata": {},
     "output_type": "execute_result"
    }
   ],
   "source": [
    "df.isnull().sum().sum()"
   ]
  },
  {
   "cell_type": "code",
   "execution_count": 6,
   "id": "b674a9fc",
   "metadata": {},
   "outputs": [
    {
     "data": {
      "text/plain": [
       "0"
      ]
     },
     "execution_count": 6,
     "metadata": {},
     "output_type": "execute_result"
    }
   ],
   "source": [
    "df.duplicated().sum()"
   ]
  },
  {
   "cell_type": "code",
   "execution_count": 7,
   "id": "e44cd69d",
   "metadata": {},
   "outputs": [],
   "source": [
    "crimes = df.major_category.unique()\n",
    "geo_df = pd.read_csv('london-city-lat-lng.csv')"
   ]
  },
  {
   "cell_type": "code",
   "execution_count": 8,
   "id": "f45a1bab",
   "metadata": {},
   "outputs": [],
   "source": [
    "app = JupyterDash(external_stylesheets=[\"https://codepen.io/chriddyp/pen/bWLwgP.css\"])"
   ]
  },
  {
   "cell_type": "code",
   "execution_count": 9,
   "id": "550da47b",
   "metadata": {},
   "outputs": [],
   "source": [
    "crime_type = sorted(df[\"major_category\"].unique())\n",
    "# DropDownBox: For chossing crime\n",
    "DropDownCity = dcc.Dropdown(\n",
    "    id = 'drop_crime',\n",
    "    options = [{'label': crime_type[i], 'value': crime_type[i]} for i in range(len(crime_type))],\n",
    "    multi = False,\n",
    "    value = \"Burglary\",\n",
    "style= {'textAlign': 'center', 'color': 'black', 'fontFamily':'Alkes Regular Italic', 'fontSize':20,'padding': '15px', 'backgroundColor': 'rgb(212, 218,220)'})\n"
   ]
  },
  {
   "cell_type": "code",
   "execution_count": 10,
   "id": "228cb2cb",
   "metadata": {},
   "outputs": [],
   "source": [
    "app.layout = html.Div(\n",
    "    \n",
    "    children=[\n",
    "    \n",
    "        html.Div(className='row',# Define the row element\n",
    "                 children=[\n",
    "        \n",
    "               \n",
    "            # bans\n",
    "    \n",
    "            html.Div([html.H2(\"London Crime Analysis\", style= {'textAlign': 'center', 'color': 'black', 'fontFamily':'Alkes Regular Italic', 'fontSize':45})\n",
    "                     ], className = 'four columns', style = {'textAlign' : 'center', 'padding': '5px' ,'backgroundColor': 'rgb(212, 218,220)'}),\n",
    "        \n",
    "            html.Div([\n",
    "                html.H2(id='MaxYear', style= {'textAlign': 'center', 'color': 'black', 'fontFamily':'Alkes Regular Italic', 'fontSize':25}),\n",
    "                html.H4('YEAR', style={'textAlign': 'center', 'color': 'black', 'fontFamily':'Alkes Regular Italic', 'fontSize':15}),\n",
    "                ], className = 'two columns', style = {'textAlign' : 'center', 'backgroundColor': 'rgb(212, 218,220)'}),\n",
    "\n",
    "            html.Div([\n",
    "                html.H2(id='MaxMonth', style= {'textAlign': 'center', 'color': 'black', 'fontFamily':'Alkes Regular Italic', 'fontSize':25}),\n",
    "                html.H4('MONTH', style={'textAlign': 'center', 'color': 'black', 'fontFamily':'Alkes Regular Italic', 'fontSize':15})\n",
    "                ], className = 'two columns', style = {'textAlign' : 'center', 'backgroundColor': 'rgb(212, 218,220)'}),\n",
    "\n",
    "            html.Div([\n",
    "                html.H2(id='MaxCity', style= {'textAlign': 'center', 'color': 'crimson', 'fontFamily':'Alkes Regular Italic', 'fontSize':25}),\n",
    "                html.H4('CITY', style={'textAlign': 'center', 'color': 'crimson', 'fontFamily':'Alkes Regular Italic', 'fontSize':15})\n",
    "                ], className = 'two columns', style = {'textAlign' : 'center', 'backgroundColor': 'rgb(212, 218,220)'}),\n",
    "\n",
    "            \n",
    "            html.Div(\n",
    "                DropDownCity\n",
    "                , className = 'two columns')\n",
    "                 ])\n",
    "         \n",
    "    ,\n",
    "    \n",
    "        html.Div(className='row',  # Define the row element\n",
    "        children=[\n",
    "            html.Div(\n",
    "                dcc.Graph(id='bar_graph'), className='six columns div-user-controls'),\n",
    "            html.Div(\n",
    "                dcc.Graph(id=\"map_graph\"), className='six columns div-user-controls')\n",
    "            ])\n",
    "     ,   \n",
    "        html.Div(className='row',  # Define the row element\n",
    "        children=[\n",
    "            html.Div(\n",
    "                dcc.Graph(id=\"year_graph\"), className='six columns div-user-controls'),\n",
    "            html.Div(\n",
    "                dcc.Graph(id=\"month_graph\"), className='six columns div-user-controls')\n",
    "        ])\n",
    "    \n",
    "    ])\n",
    "\n"
   ]
  },
  {
   "cell_type": "code",
   "execution_count": 11,
   "id": "e7f86742",
   "metadata": {},
   "outputs": [],
   "source": [
    "@app.callback(\n",
    "    Output(\"bar_graph\", \"figure\"),\n",
    "    Output(\"map_graph\", \"figure\"), \n",
    "    Output(\"year_graph\", \"figure\"), \n",
    "    Output(\"month_graph\", \"figure\"),\n",
    "    \n",
    "    Output(component_id=\"MaxYear\", component_property='children'),\n",
    "    Output(component_id=\"MaxMonth\", component_property='children'),\n",
    "    Output(component_id=\"MaxCity\", component_property='children'),\n",
    "\n",
    "    Input(component_id=\"drop_crime\", component_property='value'))\n",
    "\n",
    "def display_choropleth(crime):\n",
    "    \n",
    "    df1 = df[df[\"major_category\"] == crime]\n",
    "    grouped_df = df1.groupby([\"year\", \"month\", \"borough\"])[\"value\"].sum().sort_values().to_frame().reset_index()\n",
    "    \n",
    "    year = grouped_df.iloc[-1, 0]\n",
    "    month = grouped_df.iloc[-1, 1]\n",
    "    city = grouped_df.iloc[-1, 2]\n",
    "    \n",
    "    # BarChart Figure \n",
    "    bar_df = grouped_df[(grouped_df[\"year\"] == year) & (grouped_df[\"month\"] == month)]\n",
    "    colors = ['lightslategray'] * bar_df.shape[0]\n",
    "    colors[-1] = 'crimson'\n",
    "    bar = go.Figure(data=[go.Bar(x=bar_df[\"borough\"], y=bar_df[\"value\"], marker_color=colors)])\n",
    "    bar.update_layout(template=\"none\")\n",
    "    bar.update_layout(template=\"none\", title_text=\"How do the sum of crimes vary by City in {0}\".format(year))\n",
    "    \n",
    "    # Map Graph\n",
    "    c1 = df1.groupby(['borough'])['value'].sum().to_frame().reset_index()\n",
    "\n",
    "    merged_data= pd.merge(geo_df, c1, on=\"borough\")    \n",
    "    fig1 = px.scatter_mapbox(merged_data, lat=merged_data.lat, lon=merged_data.lng, color=\"value\", zoom=5,size ='value', hover_name=\"borough\",\n",
    "                        mapbox_style='carto-positron', color_continuous_scale=px.colors.sequential.Reds)\n",
    "    fig1.update_layout(template=\"none\")\n",
    "    fig1.update_layout(template=\"none\", title_text=\"Sum of crimes vary by City\")\n",
    "    \n",
    "    # Year Graph\n",
    "    c2 = df.groupby(['major_category', 'year'])['value'].sum().to_frame().reset_index()    \n",
    "    fig2 = px.line(c2, x='year', y='value', color='major_category', markers = 'major_category')\n",
    "    fig2.update_layout(template=\"none\")\n",
    "    fig2.update_layout(template=\"none\", title_text=\"How do the sum of crimes vary by year\")\n",
    "    \n",
    "    # Month Graph\n",
    "    c3 = df[df['major_category']== crime].groupby(['month', 'year'])['value'].sum().to_frame().reset_index()  \n",
    "    fig3 = px.line(c3, x='month', y='value', color='year', markers = 'year')\n",
    "    fig3.update_layout(template=\"none\")\n",
    "    fig3.update_layout(template=\"none\", title_text=\"How do the sum of crimes vary by month\")\n",
    "\n",
    "    return bar, fig1, fig2, fig3, year, month, city\n"
   ]
  },
  {
   "cell_type": "code",
   "execution_count": 12,
   "id": "c2650b04",
   "metadata": {
    "scrolled": true
   },
   "outputs": [
    {
     "name": "stdout",
     "output_type": "stream",
     "text": [
      "Dash app running on http://127.0.0.1:8050/\n"
     ]
    }
   ],
   "source": [
    "app.run_server(debug=True)"
   ]
  },
  {
   "cell_type": "code",
   "execution_count": 13,
   "id": "f9c8fac9",
   "metadata": {},
   "outputs": [
    {
     "data": {
      "text/plain": [
       "(13490604, 7)"
      ]
     },
     "execution_count": 13,
     "metadata": {},
     "output_type": "execute_result"
    }
   ],
   "source": [
    "df.shape"
   ]
  },
  {
   "cell_type": "code",
   "execution_count": null,
   "id": "dd6a1a73",
   "metadata": {},
   "outputs": [],
   "source": []
  },
  {
   "cell_type": "code",
   "execution_count": null,
   "id": "7d499412",
   "metadata": {},
   "outputs": [],
   "source": []
  }
 ],
 "metadata": {
  "kernelspec": {
   "display_name": "Python 3",
   "language": "python",
   "name": "python3"
  },
  "language_info": {
   "codemirror_mode": {
    "name": "ipython",
    "version": 3
   },
   "file_extension": ".py",
   "mimetype": "text/x-python",
   "name": "python",
   "nbconvert_exporter": "python",
   "pygments_lexer": "ipython3",
   "version": "3.8.8"
  }
 },
 "nbformat": 4,
 "nbformat_minor": 5
}
